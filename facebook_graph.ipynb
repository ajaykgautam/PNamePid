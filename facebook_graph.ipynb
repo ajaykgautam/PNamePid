{
  "nbformat": 4,
  "nbformat_minor": 0,
  "metadata": {
    "colab": {
      "provenance": [],
      "mount_file_id": "1qIVJDvhxUUgUyQw8wUyb7E7meOre4Aaq",
      "authorship_tag": "ABX9TyOmwwd8MbRoPqfMRGK8Z7MY",
      "include_colab_link": true
    },
    "kernelspec": {
      "name": "python3",
      "display_name": "Python 3"
    },
    "language_info": {
      "name": "python"
    }
  },
  "cells": [
    {
      "cell_type": "markdown",
      "metadata": {
        "id": "view-in-github",
        "colab_type": "text"
      },
      "source": [
        "<a href=\"https://colab.research.google.com/github/ajaykgautam/PNamePid/blob/main/facebook_graph.ipynb\" target=\"_parent\"><img src=\"https://colab.research.google.com/assets/colab-badge.svg\" alt=\"Open In Colab\"/></a>"
      ]
    },
    {
      "cell_type": "code",
      "execution_count": 1,
      "metadata": {
        "id": "RT6csIaDzGZK"
      },
      "outputs": [],
      "source": [
        "import networkx as nx\n",
        "import pandas as pd\n",
        "import numpy as np\n",
        "from sklearn.preprocessing import StandardScaler\n",
        "from sklearn.cluster import KMeans\n",
        "from sklearn.metrics import silhouette_score\n",
        "import matplotlib.pyplot as plt\n"
      ]
    },
    {
      "cell_type": "code",
      "source": [
        "# Task 1: Graph Representation\n",
        "def load_graph_from_file(file_path):\n",
        "    # Read the text file and create a graph\n",
        "    #file_path = \"https://drive.google.com/file/d/1IbpWtIMyYxSUnbdb4-g_Gjb_jAKrYYBt/view?usp=drive_link\"\n",
        "    G = nx.Graph()\n",
        "    with open(file_path, 'r') as file:\n",
        "        for line in file:\n",
        "            if line.strip():  # Skip empty lines\n",
        "                node1, node2 = line.strip().split()  # Assuming each line contains two node IDs\n",
        "                G.add_edge(node1, node2)\n",
        "    return G\n",
        "\n"
      ],
      "metadata": {
        "id": "PYoNp5PlzNIe"
      },
      "execution_count": 18,
      "outputs": []
    },
    {
      "cell_type": "code",
      "source": [
        "# Task 2: Feature Engineering\n",
        "def calculate_node_features(G):\n",
        "    # Example: Calculate degree centrality and clustering coefficient as features\n",
        "    degree_centrality = dict(nx.degree_centrality(G))\n",
        "    clustering_coefficient = dict(nx.clustering(G))\n",
        "    node_features = pd.DataFrame({'degree_centrality': degree_centrality, 'clustering_coefficient': clustering_coefficient})\n",
        "    return node_features.fillna(0)  # Handle missing values if any\n",
        "\n"
      ],
      "metadata": {
        "id": "R3xtryDyzVtk"
      },
      "execution_count": 12,
      "outputs": []
    },
    {
      "cell_type": "code",
      "source": [
        "# Task 3: Data Preparation\n",
        "def prepare_data_for_clustering(node_features):\n",
        "    # Scale features for clustering\n",
        "    scaler = StandardScaler()\n",
        "    scaled_features = scaler.fit_transform(node_features)\n",
        "    return scaled_features\n"
      ],
      "metadata": {
        "id": "QOz7-RN-zZE7"
      },
      "execution_count": 13,
      "outputs": []
    },
    {
      "cell_type": "code",
      "source": [
        "# Task 5: Clustering\n",
        "def apply_clustering(features, num_clusters):\n",
        "    kmeans = KMeans(n_clusters=num_clusters, random_state=42)\n",
        "    cluster_labels = kmeans.fit_predict(features)\n",
        "    return cluster_labels\n",
        "\n"
      ],
      "metadata": {
        "id": "lf4Nry--zcQq"
      },
      "execution_count": 14,
      "outputs": []
    },
    {
      "cell_type": "code",
      "source": [
        "# Task 7: Interpretation and Analysis\n",
        "def visualize_clusters(G, cluster_labels):\n",
        "    pos = nx.spring_layout(G)  # Position nodes using a spring layout\n",
        "    plt.figure(figsize=(10, 8))\n",
        "    nx.draw_networkx_nodes(G, pos, node_color=cluster_labels, cmap=plt.cm.Set1, node_size=300)\n",
        "    nx.draw_networkx_edges(G, pos, alpha=0.5)\n",
        "    plt.title('Graph Clustering')\n",
        "    plt.colorbar(label='Cluster')\n",
        "    plt.show()\n",
        "\n"
      ],
      "metadata": {
        "id": "0I0jMjxYzfhq"
      },
      "execution_count": 15,
      "outputs": []
    },
    {
      "cell_type": "code",
      "source": [
        "# Example usage:\n",
        "if __name__ == \"__main__\":\n",
        "    # Task 1: Load graph from file\n",
        "    import os\n",
        "    from google.colab import drive\n",
        "    drive.mount(\"/content/mydata/facebook_combined\")\n",
        "    #file_path = 'https://drive.google.com/file/d/1IbpWtIMyYxSUnbdb4-g_Gjb_jAKrYYBt/view?usp=drive_link'\n",
        "    file_path = '/content/mydata/facebook_combined.txt'\n",
        "    graph = load_graph_from_file(file_path)\n",
        "\n",
        "    # Task 2: Calculate node features\n",
        "    node_features = calculate_node_features(graph)\n",
        "\n",
        "    # Task 3: Prepare data for clustering\n",
        "    features = prepare_data_for_clustering(node_features)\n",
        "\n",
        "    # Task 5: Clustering\n",
        "    num_clusters = 3\n",
        "    cluster_labels = apply_clustering(features, num_clusters)\n",
        "\n",
        "    # Task 7: Interpretation and Analysis\n",
        "    visualize_clusters(graph, cluster_labels)\n",
        "\n",
        "    # Optional: Evaluate clustering performance\n",
        "    silhouette = silhouette_score(features, cluster_labels)\n",
        "    print(f\"Silhouette Score: {silhouette}\")"
      ],
      "metadata": {
        "colab": {
          "base_uri": "https://localhost:8080/",
          "height": 391
        },
        "id": "TxUc-Da3zjQ3",
        "outputId": "e3b33166-d0fc-4295-c203-cd77510eddf2"
      },
      "execution_count": 33,
      "outputs": [
        {
          "output_type": "error",
          "ename": "ValueError",
          "evalue": "Mountpoint must be in a directory that exists",
          "traceback": [
            "\u001b[0;31m---------------------------------------------------------------------------\u001b[0m",
            "\u001b[0;31mValueError\u001b[0m                                Traceback (most recent call last)",
            "\u001b[0;32m<ipython-input-33-883a17dd1805>\u001b[0m in \u001b[0;36m<cell line: 2>\u001b[0;34m()\u001b[0m\n\u001b[1;32m      4\u001b[0m     \u001b[0;32mimport\u001b[0m \u001b[0mos\u001b[0m\u001b[0;34m\u001b[0m\u001b[0;34m\u001b[0m\u001b[0m\n\u001b[1;32m      5\u001b[0m     \u001b[0;32mfrom\u001b[0m \u001b[0mgoogle\u001b[0m\u001b[0;34m.\u001b[0m\u001b[0mcolab\u001b[0m \u001b[0;32mimport\u001b[0m \u001b[0mdrive\u001b[0m\u001b[0;34m\u001b[0m\u001b[0;34m\u001b[0m\u001b[0m\n\u001b[0;32m----> 6\u001b[0;31m     \u001b[0mdrive\u001b[0m\u001b[0;34m.\u001b[0m\u001b[0mmount\u001b[0m\u001b[0;34m(\u001b[0m\u001b[0;34m\"/content/mydata/facebook_combined\"\u001b[0m\u001b[0;34m)\u001b[0m\u001b[0;34m\u001b[0m\u001b[0;34m\u001b[0m\u001b[0m\n\u001b[0m\u001b[1;32m      7\u001b[0m     \u001b[0;31m#file_path = 'https://drive.google.com/file/d/1IbpWtIMyYxSUnbdb4-g_Gjb_jAKrYYBt/view?usp=drive_link'\u001b[0m\u001b[0;34m\u001b[0m\u001b[0;34m\u001b[0m\u001b[0m\n\u001b[1;32m      8\u001b[0m     \u001b[0mfile_path\u001b[0m \u001b[0;34m=\u001b[0m \u001b[0;34m'/content/mydata/facebook_combined.txt'\u001b[0m\u001b[0;34m\u001b[0m\u001b[0;34m\u001b[0m\u001b[0m\n",
            "\u001b[0;32m/usr/local/lib/python3.10/dist-packages/google/colab/drive.py\u001b[0m in \u001b[0;36mmount\u001b[0;34m(mountpoint, force_remount, timeout_ms, readonly)\u001b[0m\n\u001b[1;32m     98\u001b[0m \u001b[0;32mdef\u001b[0m \u001b[0mmount\u001b[0m\u001b[0;34m(\u001b[0m\u001b[0mmountpoint\u001b[0m\u001b[0;34m,\u001b[0m \u001b[0mforce_remount\u001b[0m\u001b[0;34m=\u001b[0m\u001b[0;32mFalse\u001b[0m\u001b[0;34m,\u001b[0m \u001b[0mtimeout_ms\u001b[0m\u001b[0;34m=\u001b[0m\u001b[0;36m120000\u001b[0m\u001b[0;34m,\u001b[0m \u001b[0mreadonly\u001b[0m\u001b[0;34m=\u001b[0m\u001b[0;32mFalse\u001b[0m\u001b[0;34m)\u001b[0m\u001b[0;34m:\u001b[0m\u001b[0;34m\u001b[0m\u001b[0;34m\u001b[0m\u001b[0m\n\u001b[1;32m     99\u001b[0m   \u001b[0;34m\"\"\"Mount your Google Drive at the specified mountpoint path.\"\"\"\u001b[0m\u001b[0;34m\u001b[0m\u001b[0;34m\u001b[0m\u001b[0m\n\u001b[0;32m--> 100\u001b[0;31m   return _mount(\n\u001b[0m\u001b[1;32m    101\u001b[0m       \u001b[0mmountpoint\u001b[0m\u001b[0;34m,\u001b[0m\u001b[0;34m\u001b[0m\u001b[0;34m\u001b[0m\u001b[0m\n\u001b[1;32m    102\u001b[0m       \u001b[0mforce_remount\u001b[0m\u001b[0;34m=\u001b[0m\u001b[0mforce_remount\u001b[0m\u001b[0;34m,\u001b[0m\u001b[0;34m\u001b[0m\u001b[0;34m\u001b[0m\u001b[0m\n",
            "\u001b[0;32m/usr/local/lib/python3.10/dist-packages/google/colab/drive.py\u001b[0m in \u001b[0;36m_mount\u001b[0;34m(mountpoint, force_remount, timeout_ms, ephemeral, readonly)\u001b[0m\n\u001b[1;32m    196\u001b[0m     \u001b[0mnormed\u001b[0m \u001b[0;34m=\u001b[0m \u001b[0m_os\u001b[0m\u001b[0;34m.\u001b[0m\u001b[0mpath\u001b[0m\u001b[0;34m.\u001b[0m\u001b[0mnormpath\u001b[0m\u001b[0;34m(\u001b[0m\u001b[0mmountpoint\u001b[0m\u001b[0;34m)\u001b[0m\u001b[0;34m\u001b[0m\u001b[0;34m\u001b[0m\u001b[0m\n\u001b[1;32m    197\u001b[0m     \u001b[0;32mif\u001b[0m \u001b[0;34m'/'\u001b[0m \u001b[0;32min\u001b[0m \u001b[0mnormed\u001b[0m \u001b[0;32mand\u001b[0m \u001b[0;32mnot\u001b[0m \u001b[0m_os\u001b[0m\u001b[0;34m.\u001b[0m\u001b[0mpath\u001b[0m\u001b[0;34m.\u001b[0m\u001b[0mexists\u001b[0m\u001b[0;34m(\u001b[0m\u001b[0m_os\u001b[0m\u001b[0;34m.\u001b[0m\u001b[0mpath\u001b[0m\u001b[0;34m.\u001b[0m\u001b[0mdirname\u001b[0m\u001b[0;34m(\u001b[0m\u001b[0mnormed\u001b[0m\u001b[0;34m)\u001b[0m\u001b[0;34m)\u001b[0m\u001b[0;34m:\u001b[0m\u001b[0;34m\u001b[0m\u001b[0;34m\u001b[0m\u001b[0m\n\u001b[0;32m--> 198\u001b[0;31m       \u001b[0;32mraise\u001b[0m \u001b[0mValueError\u001b[0m\u001b[0;34m(\u001b[0m\u001b[0;34m'Mountpoint must be in a directory that exists'\u001b[0m\u001b[0;34m)\u001b[0m\u001b[0;34m\u001b[0m\u001b[0;34m\u001b[0m\u001b[0m\n\u001b[0m\u001b[1;32m    199\u001b[0m   \u001b[0;32mexcept\u001b[0m\u001b[0;34m:\u001b[0m\u001b[0;34m\u001b[0m\u001b[0;34m\u001b[0m\u001b[0m\n\u001b[1;32m    200\u001b[0m     \u001b[0md\u001b[0m\u001b[0;34m.\u001b[0m\u001b[0mkill\u001b[0m\u001b[0;34m(\u001b[0m\u001b[0m_signal\u001b[0m\u001b[0;34m.\u001b[0m\u001b[0mSIGKILL\u001b[0m\u001b[0;34m)\u001b[0m\u001b[0;34m\u001b[0m\u001b[0;34m\u001b[0m\u001b[0m\n",
            "\u001b[0;31mValueError\u001b[0m: Mountpoint must be in a directory that exists"
          ]
        }
      ]
    }
  ]
}